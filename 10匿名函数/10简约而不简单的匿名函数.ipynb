{
 "cells": [
  {
   "cell_type": "markdown",
   "metadata": {},
   "source": [
    "# 什么是匿名函数\n",
    "匿名函数就是没有函数名的函数，匿名函数主体是只有一行的简单表达式。\\\n",
    "匿名函数格式如下：\n",
    "```Python\n",
    "\n",
    "lambda argument1, argument2,... argumentN : expression\n",
    "```\n",
    "匿名函数的关键字是 lambda，之后是一系列的参数，然后用冒号隔开，最后则是由这些参数组成的表达式。"
   ]
  },
  {
   "cell_type": "code",
   "execution_count": 10,
   "metadata": {},
   "outputs": [
    {
     "data": {
      "text/plain": [
       "9"
      ]
     },
     "execution_count": 10,
     "metadata": {},
     "output_type": "execute_result"
    }
   ],
   "source": [
    "square = lambda x: x ** 2\n",
    "square(3)\n",
    "\n",
    "# 等价的非匿名函数\n",
    "# def square(x):\n",
    "#     return x ** 2\n",
    "# square(3)"
   ]
  },
  {
   "cell_type": "markdown",
   "metadata": {},
   "source": [
    "匿名函数返回的是一个函数对象（function object），被一个变量接收后，感觉改变量可以理解为函数名。"
   ]
  },
  {
   "cell_type": "markdown",
   "metadata": {},
   "source": [
    "# 匿名函数和非匿名函数的区别\n",
    "第一，lambda是一个表达式，而非语句。\n",
    "- 所谓表达式就是重在表达，通过抽象的运算表达一种抽象。e.g.x + 2、x ** 2。\n",
    "- 所谓语句就是重在完成某些功能，重在改变。e.g.赋值语句x = 1完成了赋值，print 语句print(x)完成了打印，条件语句 if x < 0:完成了选择功能等等。\n",
    "\n",
    "因此，lambda表达式可以放在一些def函数不能放的地方，def函数必须通过函数名调用，因此必须先定义，但是匿名函数只是一个表达式，直接返回函数对象（function object），所以也就不需要函数名了。匿名函数可以实现更高级的功能、更简洁的代码。比如，lambda表达式 可以用在列表内部，而常规函数却不能（常规函数需要先定义，然后在列表中通过函数名调用）："
   ]
  },
  {
   "cell_type": "code",
   "execution_count": 5,
   "metadata": {},
   "outputs": [
    {
     "data": {
      "text/plain": [
       "[0, 1, 4, 9, 16, 25, 36, 49, 64, 81]"
      ]
     },
     "execution_count": 5,
     "metadata": {},
     "output_type": "execute_result"
    }
   ],
   "source": [
    "[(lambda x: x * x) (x) for x in range(10)]"
   ]
  },
  {
   "cell_type": "markdown",
   "metadata": {},
   "source": [
    "第二，lambda的主体是只有一行的简单表达式，并不能扩展成一个多行的代码块。这其实是出于设计的考虑。Python 之所以发明 lambda，就是为了让它和常规函数各司其职：lambda 专注于简单的任务，而常规函数则负责更复杂的多行逻辑。"
   ]
  },
  {
   "cell_type": "markdown",
   "metadata": {},
   "source": [
    "# 为什么要使用匿名函数\n",
    "理论上，Python中有匿名函数的地方，都可以被替换成等价的其它表达式。也就是说一个Python程序是可以不用任何匿名函数的。 \\\n",
    "但是，在一些情况下使用匿名函数可以简化代码，降低代码复杂度，提高代码可读性。\n",
    "## 使用函数的目的\n",
    "1. 减少代码重复性。当程序在同地方包含了相同的代码，那么我们就会把这部分相同的代码写成一个函数，并为它取一个名字，方便在相对应的不同地方调用。\n",
    "2. 模块化代码。当程序中某一块代码是为了实现一个功能，但代码内容非常多，这样代码堆在一起降低可读性，那么通常我们也会把这部分代码单独写成一个函数，然后加以调用。\n",
    "\n",
    "## 那匿名函数呢\n",
    "当某些情况你需要一个函数，或者说一个函数对象（function object）,但是这个函数逻辑非常简单，只需要一行就能实现，同时程序只会调用这个函数一次。这种情况就可以使用匿名函数，如果使用常规函数还要定义再通过函数名调用，这样的代码是冗长，可读性低的。下面是两种函数的对比。"
   ]
  },
  {
   "cell_type": "code",
   "execution_count": 11,
   "metadata": {},
   "outputs": [],
   "source": [
    "squared = map(lambda x : x ** 2, [1, 2, 3, 4, 5])\n",
    "\n",
    "# 如果用常规函数\n",
    "# def square(x):\n",
    "#     return x**2\n",
    "\n",
    "# squared = map(square, [1, 2, 3, 4, 5])"
   ]
  },
  {
   "cell_type": "markdown",
   "metadata": {},
   "source": [
    "# 函数式编程"
   ]
  },
  {
   "cell_type": "markdown",
   "metadata": {},
   "source": [
    "## 几种经常结合匿名函数使用的函数\n",
    "Python 主要提供了这么几个函数：map()、filter() 和 reduce()，通常结合匿名函数 lambda 一起使用。这也是匿名函数经常使用的场景。"
   ]
  },
  {
   "cell_type": "markdown",
   "metadata": {},
   "source": [
    "### map()\n",
    "map(function, iterable) 函数，前面的例子提到过，它表示，对 iterable 中的每个元素，都运用 function 这个函数，最后返回一个可迭代的对象（Python2.X是返回一个列表）。"
   ]
  },
  {
   "cell_type": "code",
   "execution_count": 14,
   "metadata": {},
   "outputs": [
    {
     "name": "stdout",
     "output_type": "stream",
     "text": [
      "<class 'map'> <map object at 0x0000023680C5D4E0>\n"
     ]
    }
   ],
   "source": [
    "l = [1, 2, 3, 4, 5]\n",
    "new_list1 = map(lambda x : x * 2, l)\n",
    "print(type(new_list1), new_list1)"
   ]
  },
  {
   "cell_type": "markdown",
   "metadata": {},
   "source": [
    "### filter()\n",
    "filter(function, iterable) 函数，它和 map 函数类似，function 同样表示一个函数对象。filter() 函数表示对 iterable 中的每个元素，都使用 function 判断，并返回 True 或者 False，最后将返回 True 的元素组成一个可迭代的对象。"
   ]
  },
  {
   "cell_type": "code",
   "execution_count": 15,
   "metadata": {},
   "outputs": [
    {
     "name": "stdout",
     "output_type": "stream",
     "text": [
      "<class 'filter'> <filter object at 0x0000023680BE1FD0>\n"
     ]
    }
   ],
   "source": [
    "l = [1, 2, 3, 4, 5]\n",
    "new_list2 = filter(lambda x: x % 2 == 0, l) # [2, 4]\n",
    "print(type(new_list2), new_list2)"
   ]
  },
  {
   "cell_type": "markdown",
   "metadata": {},
   "source": [
    "### reduce()\n",
    "reduce(function, iterable) 函数，它通常用来对一个集合做一些累积操作。function 同样是一个函数对象，规定它有两个参数，表示对 iterable 中的每个元素以及上一次调用后的结果，运用 function 进行计算，所以最后返回的是一个单独的数值。"
   ]
  },
  {
   "cell_type": "code",
   "execution_count": 19,
   "metadata": {},
   "outputs": [
    {
     "name": "stdout",
     "output_type": "stream",
     "text": [
      "<class 'int'> 120\n"
     ]
    },
    {
     "data": {
      "text/plain": [
       "15"
      ]
     },
     "execution_count": 19,
     "metadata": {},
     "output_type": "execute_result"
    }
   ],
   "source": [
    "from functools import reduce\n",
    "l = [1, 2, 3, 4, 5]\n",
    "product1 = reduce(lambda x, y: x * y, l) # 1*2*3*4*5 = 120\n",
    "product2 = reduce(lambda x, y: x + y, l) # 1+2+3+4+5 = 15\n",
    "print(type(product1), product1)\n",
    "product2"
   ]
  },
  {
   "cell_type": "markdown",
   "metadata": {},
   "source": [
    "## 函数式编程的应用场景\n",
    "在我们想对集合中的元素进行一些操作时，如果操作非常简单，比如相加、累积这种，那么我们优先考虑 map()、filter()、reduce() 这类或者 list comprehension 的形式。应为这两种形式相比于for循环效率更高。其中map()、filter()、reduce() 尤甚，因为它们直接是用C语言写的，不需要Python解释器加涅调用。\n",
    "- 在数据量非常多的情况下，比如机器学习的应用，那我们一般更倾向于函数式编程的表示，因为效率更高；\n",
    "- 在数据量不多的情况下，并且你想要程序更加 Pythonic 的话，那么 list comprehension 也不失为一个好选择。"
   ]
  },
  {
   "cell_type": "code",
   "execution_count": null,
   "metadata": {},
   "outputs": [],
   "source": []
  }
 ],
 "metadata": {
  "kernelspec": {
   "display_name": "Python 3 (ipykernel)",
   "language": "python",
   "name": "python3"
  },
  "language_info": {
   "codemirror_mode": {
    "name": "ipython",
    "version": 3
   },
   "file_extension": ".py",
   "mimetype": "text/x-python",
   "name": "python",
   "nbconvert_exporter": "python",
   "pygments_lexer": "ipython3",
   "version": "3.8.5"
  }
 },
 "nbformat": 4,
 "nbformat_minor": 4
}
