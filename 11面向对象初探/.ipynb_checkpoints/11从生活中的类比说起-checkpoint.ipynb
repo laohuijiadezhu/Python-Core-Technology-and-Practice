{
 "cells": [
  {
   "cell_type": "markdown",
   "id": "4a30bebe",
   "metadata": {},
   "source": [
    "# 为什么需要面向对象\n",
    "传统的命令式语言有无数重复性代码，函数可以减少重复性，但随着计算机的发展、以及程序复杂性的提升，只有函数是远远不够的，需要把更加抽象的概念引入计算机才能缓解（而不是解决）这个问题，于是面向对象（OOP）的思想应运而生。"
   ]
  },
  {
   "cell_type": "markdown",
   "id": "1b25f155",
   "metadata": {},
   "source": [
    "## 面向对象的基本概念\n",
    "抽象是面向对象的最基本的概念。生物课上，有“界门纲目科属种”的划分，这就是抽象的层次，科学家将生物根据某些相似之处进行归类，进而方便研究。生活中也是如此，习惯对身边的事物进行分类：\n",
    "- 猫和狗都是动物\n",
    "- 直线和圆都是平面几何图形\n",
    "- 《哈利波特》和《三国演义》都是小说\n",
    "\n",
    "作为分类根据，每一类别的事物都是有相似之处的，比如：\n",
    "- 动物会动\n",
    "- 几何图形有周长\n",
    "- 小说会有作者和标题等元素\n",
    "\n",
    "下面是一个类的例子，进而引出几个关于类的基本概念：\n",
    "- 类：一群有着相似性的事物的集合，对应关键字class\n",
    "- 对象：集合中的一个事物，这里对应class示例化后的某一个object，比如harry_potter_book\n",
    "- 属性：对象的某个静态特征，比如下述代码中的title、author和__context\n",
    "- 函数：对象的某个动态能力，比图下述代码中的intercept_context()函数"
   ]
  },
  {
   "cell_type": "code",
   "execution_count": 4,
   "id": "90df96bf",
   "metadata": {},
   "outputs": [
    {
     "name": "stdout",
     "output_type": "stream",
     "text": [
      "init function called\n"
     ]
    }
   ],
   "source": [
    "class Document():\n",
    "    def __init__(self, title, author, context):\n",
    "        print('init function called')\n",
    "        self.title = title\n",
    "        self.author = author\n",
    "        # 以 __ 开头的属性是私有属性\n",
    "        self.__context = context\n",
    "        \n",
    "    def get_context_length(self):\n",
    "        return len(self.__context)\n",
    "    \n",
    "    def intercept_context(self, length):\n",
    "        self.__context = self.__context[:length]\n",
    "        \n",
    "harry_potter_book = Document('Harry Potter', \\\n",
    "                             'J. K. Rowling', \\\n",
    "                             '... Forever Do not believe any thing is capable of thinking independently ...')"
   ]
  },
  {
   "cell_type": "markdown",
   "id": "e26f2f9b",
   "metadata": {},
   "source": [
    "在上述Document类中有三个函数。\\\n",
    "其中__init__()表示为构造函数，用于**实例化类对象**。\\\n",
    "而 get_context_length() 和 intercept_context() 则为类的普通函数，我们调用它们来**对对象的属性做一些事情**。\\\n",
    "在上述Document类中还有三个属性（attribute）。\\\n",
    "title、author和__context，通过构造函数传入。 intercept_context 能修改对象harry_potter_book的__context 属性。\\\n",
    "需要注意的是如果属性是以__开头，那么这个属性是私有属性。**私有属性**：指不希望在类的函数之外的地方被访问和修改的属性。"
   ]
  },
  {
   "cell_type": "code",
   "execution_count": 5,
   "id": "fc791690",
   "metadata": {},
   "outputs": [
    {
     "name": "stdout",
     "output_type": "stream",
     "text": [
      "the title of Harry Potter:  Harry Potter\n",
      "the author of Harry Potter:  J. K. Rowling\n",
      "the context_length of Harry Potter:  77\n",
      "after intercept the context_length of Harry Potter:  10\n"
     ]
    },
    {
     "ename": "AttributeError",
     "evalue": "'Document' object has no attribute '__context'",
     "output_type": "error",
     "traceback": [
      "\u001b[1;31m---------------------------------------------------------------------------\u001b[0m",
      "\u001b[1;31mAttributeError\u001b[0m                            Traceback (most recent call last)",
      "Input \u001b[1;32mIn [5]\u001b[0m, in \u001b[0;36m<cell line: 8>\u001b[1;34m()\u001b[0m\n\u001b[0;32m      5\u001b[0m harry_potter_book\u001b[38;5;241m.\u001b[39mintercept_context(\u001b[38;5;241m10\u001b[39m)\n\u001b[0;32m      6\u001b[0m \u001b[38;5;28mprint\u001b[39m(\u001b[38;5;124m'\u001b[39m\u001b[38;5;124mafter intercept the context_length of Harry Potter: \u001b[39m\u001b[38;5;124m'\u001b[39m, harry_potter_book\u001b[38;5;241m.\u001b[39mget_context_length())\n\u001b[1;32m----> 8\u001b[0m \u001b[38;5;28mprint\u001b[39m(\u001b[43mharry_potter_book\u001b[49m\u001b[38;5;241;43m.\u001b[39;49m\u001b[43m__context\u001b[49m)\n",
      "\u001b[1;31mAttributeError\u001b[0m: 'Document' object has no attribute '__context'"
     ]
    }
   ],
   "source": [
    "print('the title of Harry Potter: ', harry_potter_book.title)\n",
    "print('the author of Harry Potter: ', harry_potter_book.author)\n",
    "print('the context_length of Harry Potter: ', harry_potter_book.get_context_length())\n",
    "\n",
    "harry_potter_book.intercept_context(10)\n",
    "print('after intercept the context_length of Harry Potter: ', harry_potter_book.get_context_length())\n",
    "\n",
    "print(harry_potter_book.__context)"
   ]
  },
  {
   "cell_type": "markdown",
   "id": "8aa579df",
   "metadata": {},
   "source": [
    "## 三个问题\n",
    "1. 问题1：如何在一个类中定义一些变量，每个对象都可以方便访问这些变量而不用重新构造？\n",
    "2. 问题2：如果一个函数不涉及到访问修改这个类的属性，而放到类外面有点不恰当，怎么做才能更优雅？"
   ]
  },
  {
   "cell_type": "code",
   "execution_count": 22,
   "id": "326367bc",
   "metadata": {},
   "outputs": [
    {
     "name": "stdout",
     "output_type": "stream",
     "text": [
      "init function called\n",
      "7\n",
      "Welcome! The context for this book is indeed nothing.\n"
     ]
    }
   ],
   "source": [
    "class Document():\n",
    "    WELCOME_STR = 'Welcome! The context for this book is {}.'\n",
    "    \n",
    "    def __init__(self, title, author, context):\n",
    "        print('init function called')\n",
    "        self.title = title\n",
    "        self.author = author\n",
    "        # 以 __ 开头的属性是私有属性\n",
    "        self.__context = context\n",
    "        \n",
    "    # 类函数\n",
    "    @classmethod\n",
    "    def create_empty_book(cls, title, author):\n",
    "        return cls(title=title, author=author, context='nothing')\n",
    "    \n",
    "    # 成员函数\n",
    "    def get_context_length(self):\n",
    "        return len(self.__context)\n",
    "    \n",
    "    # 静态函数\n",
    "    @staticmethod\n",
    "    def get_welcome(context):\n",
    "        return Document.WELCOME_STR.format(context)\n",
    "\n",
    "empty_book = Document.create_empty_book('What Every Man Thinks About Apart from Sex'\n",
    "                                       , 'Professor Sheridan Simove')\n",
    "\n",
    "print(empty_book.get_context_length())\n",
    "print(empty_book.get_welcome('indeed nothing'))"
   ]
  },
  {
   "cell_type": "markdown",
   "id": "150df1f4",
   "metadata": {},
   "source": [
    "对于问题1，你只需要和函数并列地声明并赋值，就可以实现这一点。一般命名规范为变量名全部大写。既可以在类中使用self.WELCOME_STR访问，也可以在类外使用Document.WELCOME_STR访问。\\\n",
    "用法如下列代码所示:"
   ]
  },
  {
   "cell_type": "code",
   "execution_count": 23,
   "id": "1c57771c",
   "metadata": {},
   "outputs": [
    {
     "name": "stdout",
     "output_type": "stream",
     "text": [
      "Welcome! The context for this book is without object.\n",
      "Welcome! The context for this book is Entity.\n",
      "Welcome! The context for this book is {}.\n"
     ]
    }
   ],
   "source": [
    "print(Document.get_welcome('without object'))\n",
    "print(Document.WELCOME_STR.format('Entity'))\n",
    "print(Document.WELCOME_STR)"
   ]
  },
  {
   "cell_type": "markdown",
   "id": "6fa1c2c9",
   "metadata": {},
   "source": [
    "对于问题2，引入类函数、成员函数和静态函数三个概念。\n",
    "- 类函数的第一个参数一般为 cls，表示必须传一个类进来。**类函数最常用的功能是实现不同的 init 构造函数**，比如上文代码中，我们使用 create_empty_book 类函数，来创造新的书籍对象，其 context 一定为 'nothing'。这样的代码，就比你直接构造要清晰一些。类似的，类函数需要装饰器 @classmethod 来声明。\n",
    "- 成员函数则是我们最正常的类的函数，它不需要任何装饰器声明，第一个参数 self 代表当前对象的引用，可以通过此函数，来**实现想要的访问 / 修改类的属性等功能**。\n",
    "- 静态函数可以**用来做一些简单独立的任务，既方便测试，也能优化代码结构**。当函数不涉及对象的私有变量（没有self作为参数），相同输入可以得到相同的输出就可以设置为静态函数。静态函数**还可以**通过在函数前一行加上装饰器 @staticmethod 来表示，代码中也有相应的示例。"
   ]
  },
  {
   "cell_type": "markdown",
   "id": "56b73c1d",
   "metadata": {},
   "source": [
    "3. 问题3：既然类是一群相似的对象的的集合，那么可不可以是一群相似的类的集合？\n",
    "\n",
    "对于问题3，答案当然是可以。只要抽象得当，类可以描述任何事物的集合。这里引入继承的概念，**继承**是指一个类既拥有另一个类的特征，也拥有不同于另一个类的独特特征，该类即为另一个类的子类，另一个类即为父类，特征就是指类的属性和函数。\\\n",
    "例如下面这个例子，Document 和 Video 它们有**相似的地方**，都有相应的标题、作者和内容等属性，所以可以抽象出一个**相似的类的集合**Entity，作为Document 和 Video的父类。"
   ]
  },
  {
   "cell_type": "code",
   "execution_count": 26,
   "id": "e099a37e",
   "metadata": {},
   "outputs": [],
   "source": [
    "class Entity():\n",
    "    def __init__(self, object_type):\n",
    "        print('parent class init called')\n",
    "        self.object_type = object_type\n",
    "        \n",
    "    def get_context_length():\n",
    "        raise Exception('get_context_length not implemented')\n",
    "        \n",
    "    def print_title(self):\n",
    "        print(self.title)\n",
    "        \n",
    "class Document(Entity):\n",
    "    def __init__(self, title, author, context):\n",
    "        print('Document class init called')\n",
    "        Entity.__init__(self, 'document')\n",
    "        self.title = title\n",
    "        self.author = author\n",
    "        self.__context = context\n",
    "        \n",
    "    def get_context_length(self):\n",
    "        return len(self.__context)\n",
    "    \n",
    "class Video(Entity):\n",
    "    def __init__(self, title, author, video_length):\n",
    "        print('Video class init called')\n",
    "        Entity.__init__(self, 'video')\n",
    "        self.title = title\n",
    "        self.author = author\n",
    "        self.__video_length = video_length\n",
    "        \n",
    "    def get_context_length(self):\n",
    "        return self.__video_length"
   ]
  },
  {
   "cell_type": "code",
   "execution_count": 27,
   "id": "1a683cbf",
   "metadata": {},
   "outputs": [
    {
     "name": "stdout",
     "output_type": "stream",
     "text": [
      "Document class init called\n",
      "parent class init called\n",
      "Video class init called\n",
      "parent class init called\n",
      "document\n",
      "video\n",
      "Harry Potter(Book)\n",
      "Harry Potter(Movie)\n",
      "77\n",
      "120\n"
     ]
    }
   ],
   "source": [
    "harry_potter_book = Document('Harry Potter(Book)'\n",
    "                             , 'J. K. Rowling'\n",
    "                             , '... Forever Do not believe any thing is capable of thinking independently ...')\n",
    "harry_potter_movie = Video('Harry Potter(Movie)', 'J. K. Rowling', 120)\n",
    "\n",
    "print(harry_potter_book.object_type)\n",
    "print(harry_potter_movie.object_type)\n",
    "\n",
    "harry_potter_book.print_title()\n",
    "harry_potter_movie.print_title()\n",
    "\n",
    "print(harry_potter_book.get_context_length())\n",
    "print(harry_potter_movie.get_context_length())"
   ]
  },
  {
   "cell_type": "markdown",
   "id": "136413c6",
   "metadata": {},
   "source": [
    "分析一下上面的示例：\n",
    "- 首先是构造函数。每个类都有构造函数，子类在生成对象时，**不会自动调用父类的构造函数，需要在子类的构造函数中手动（显式）的调用父类的构造函数**。构造函数的执行顺序是先子类后父类。\n",
    "- 之后是get_context_length()函数。如果使用父类对象调用get_context_length()，就会raise异常（当然这是我们强制设置的），这样的好处就是**强制要求子类必须重写**get_context_length()函数，**避免漏写**，覆盖掉父类中的get_context_length()函数。\n",
    "- 最后是print_title()函数。这个函数只在父类中定义，但是子类可以轻松调用，这就是**继承**，子类继承父类的方法。这就体现了**继承的优势**：减少重复的代码，降低系统的复杂度（熵值）。"
   ]
  },
  {
   "cell_type": "markdown",
   "id": "c22c4ee3",
   "metadata": {},
   "source": [
    "## 抽象类\n",
    "上述的Entity的实例化对象是没有什么用的，只需要用来定义Document和Video的一些基本元素就够了。为了防止这种类被实例化，可以将其定义为抽象类。\n",
    "### 什么是抽象类\n",
    "抽象类是一种特殊的类，它生下来就是作为父类存在的，一旦对象化就会报错。同样，抽象函数定义在抽象类之中，子类必须重写该函数才能使用。相应的抽象函数，则是使用装饰器 @abstractmethod 来表示。"
   ]
  },
  {
   "cell_type": "code",
   "execution_count": 29,
   "id": "b66b58f3",
   "metadata": {},
   "outputs": [
    {
     "name": "stdout",
     "output_type": "stream",
     "text": [
      "Harry Potter\n"
     ]
    },
    {
     "ename": "TypeError",
     "evalue": "Can't instantiate abstract class Entity with abstract methods get_title, set_title",
     "output_type": "error",
     "traceback": [
      "\u001b[1;31m---------------------------------------------------------------------------\u001b[0m",
      "\u001b[1;31mTypeError\u001b[0m                                 Traceback (most recent call last)",
      "Input \u001b[1;32mIn [29]\u001b[0m, in \u001b[0;36m<cell line: 23>\u001b[1;34m()\u001b[0m\n\u001b[0;32m     20\u001b[0m document\u001b[38;5;241m.\u001b[39mset_title(\u001b[38;5;124m'\u001b[39m\u001b[38;5;124mHarry Potter\u001b[39m\u001b[38;5;124m'\u001b[39m)\n\u001b[0;32m     21\u001b[0m \u001b[38;5;28mprint\u001b[39m(document\u001b[38;5;241m.\u001b[39mget_title())\n\u001b[1;32m---> 23\u001b[0m entity \u001b[38;5;241m=\u001b[39m \u001b[43mEntity\u001b[49m\u001b[43m(\u001b[49m\u001b[43m)\u001b[49m\n",
      "\u001b[1;31mTypeError\u001b[0m: Can't instantiate abstract class Entity with abstract methods get_title, set_title"
     ]
    }
   ],
   "source": [
    "from abc import ABCMeta, abstractmethod\n",
    "\n",
    "class Entity(metaclass=ABCMeta):\n",
    "    @abstractmethod\n",
    "    def get_title(self):\n",
    "        pass\n",
    "    \n",
    "    @abstractmethod\n",
    "    def set_title(self, title):\n",
    "        pass\n",
    "    \n",
    "class Document(Entity):\n",
    "    def get_title(self):\n",
    "        return self.title\n",
    "    \n",
    "    def set_title(self, title):\n",
    "        self.title = title\n",
    "        \n",
    "document = Document()\n",
    "document.set_title('Harry Potter')\n",
    "print(document.get_title())\n",
    "\n",
    "entity = Entity()"
   ]
  },
  {
   "cell_type": "markdown",
   "id": "e6df6864",
   "metadata": {},
   "source": [
    "通过上述代码可依发现，Entity实例化直接报错，只有通过Document继承Entity才能正常使用。这就是软件工程中的重要概念——接口。"
   ]
  },
  {
   "cell_type": "code",
   "execution_count": null,
   "id": "e82e42f6",
   "metadata": {},
   "outputs": [],
   "source": []
  }
 ],
 "metadata": {
  "kernelspec": {
   "display_name": "Python 3 (ipykernel)",
   "language": "python",
   "name": "python3"
  },
  "language_info": {
   "codemirror_mode": {
    "name": "ipython",
    "version": 3
   },
   "file_extension": ".py",
   "mimetype": "text/x-python",
   "name": "python",
   "nbconvert_exporter": "python",
   "pygments_lexer": "ipython3",
   "version": "3.8.5"
  }
 },
 "nbformat": 4,
 "nbformat_minor": 5
}
